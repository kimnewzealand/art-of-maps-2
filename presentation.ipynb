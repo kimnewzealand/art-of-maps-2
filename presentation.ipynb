{
 "cells": [
  {
   "cell_type": "markdown",
   "metadata": {
    "slideshow": {
     "slide_type": "slide"
    }
   },
   "source": [
    "# Art of Maps Episode 2\n",
    "\n",
    "## Kim Fitter\n",
    "\n",
    "## 24 June 2025\n",
    "\n",
    "\n",
    "\n",
    "Slides available at https://artofmaps2.netlify.app\n"
   ]
  },
  {
   "cell_type": "markdown",
   "metadata": {
    "slideshow": {
     "slide_type": "slide"
    }
   },
   "source": [
    "# About me"
   ]
  },
  {
   "cell_type": "markdown",
   "metadata": {
    "slideshow": {
     "slide_type": "subslide"
    }
   },
   "source": [
    "### Non traditional path to coding"
   ]
  },
  {
   "cell_type": "markdown",
   "metadata": {
    "slideshow": {
     "slide_type": "subslide"
    }
   },
   "source": [
    "\n",
    "### Enspiral Dev Academy"
   ]
  },
  {
   "cell_type": "markdown",
   "metadata": {
    "slideshow": {
     "slide_type": "subslide"
    }
   },
   "source": [
    "## Data Scientist, Data Engineer and Analytics Engineer"
   ]
  },
  {
   "cell_type": "markdown",
   "metadata": {
    "slideshow": {
     "slide_type": "subslide"
    }
   },
   "source": [
    "### Data viz and map enthusiast"
   ]
  },
  {
   "cell_type": "markdown",
   "metadata": {
    "slideshow": {
     "slide_type": "subslide"
    }
   },
   "source": [
    "### Community organiser"
   ]
  },
  {
   "cell_type": "markdown",
   "metadata": {
    "slideshow": {
     "slide_type": "slide"
    }
   },
   "source": [
    "# About this talk\n",
    "\n",
    "Previous talk https://artofmaps.netlify.app/ showcasing map art using R and JavaScript\n",
    "\n",
    "This talk is another showcase of maps\n",
    "\n",
    "But opportunity to try out the following in 4 days\n",
    "\n",
    "- Python map packages \n",
    "- deploy concept to webapp using Python\n",
    "- Agentic AI"
   ]
  },
  {
   "cell_type": "markdown",
   "metadata": {
    "slideshow": {
     "slide_type": "slide"
    }
   },
   "source": [
    " # Map 1 placeholder"
   ]
  },
  {
   "cell_type": "markdown",
   "metadata": {},
   "source": [
    " # Map 2 placeholder"
   ]
  },
  {
   "cell_type": "markdown",
   "metadata": {},
   "source": [
    " # Map 3 placeholder"
   ]
  },
  {
   "cell_type": "markdown",
   "metadata": {},
   "source": [
    " # Map 4 placeholder"
   ]
  },
  {
   "cell_type": "markdown",
   "metadata": {},
   "source": [
    " # Map 5 placeholder"
   ]
  },
  {
   "cell_type": "markdown",
   "metadata": {
    "slideshow": {
     "slide_type": "slide"
    }
   },
   "source": [
    "# Conclusion"
   ]
  },
  {
   "cell_type": "markdown",
   "metadata": {
    "slideshow": {
     "slide_type": "slide"
    }
   },
   "source": [
    "# References\n",
    "\n",
    "## The tools that made this presentation possible\n",
    "\n",
    "- [Jupyter notebooks](https://jupyter.org/) for interactively developing Python\n",
    "- [geopandas](https://geopandas.org/en/stable/) to make working with geospatial data in python easier\n",
    "- [contextily](https://contextily.readthedocs.io/en/latest/) package to retrieve tile maps from the internet\n",
    "- [nbconvert](https://nbconvert.readthedocs.io/) package to convert Notebooks to other formats\n",
    "- [Netlify](https://www.netlify.com/) to deploy the presentation.slides.html to a custom URL\n",
    "\n",
    "\n",
    "## Useful blogs\n",
    "\n",
    "- [Interactive presentations from a Jupyter Notebook](https://emasuriano.com/til/2024-07-01-create-presentations-from-notebook/)\n"
   ]
  },
  {
   "cell_type": "markdown",
   "metadata": {},
   "source": []
  }
 ],
 "metadata": {
  "kernelspec": {
   "display_name": ".venv",
   "language": "python",
   "name": "python3"
  },
  "language_info": {
   "codemirror_mode": {
    "name": "ipython",
    "version": 3
   },
   "file_extension": ".py",
   "mimetype": "text/x-python",
   "name": "python",
   "nbconvert_exporter": "python",
   "pygments_lexer": "ipython3",
   "version": "3.13.5"
  },
  "orig_nbformat": 4
 },
 "nbformat": 4,
 "nbformat_minor": 2
}
