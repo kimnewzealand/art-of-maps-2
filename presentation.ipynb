{
 "cells": [
  {
   "cell_type": "markdown",
   "metadata": {},
   "source": [
    "# Art of Maps Episode 2\n",
    "---\n",
    "## Kim Fitter\n",
    "\n",
    "## 24 June 2025\n",
    "---\n",
    "Slides available at https://artofmaps2.netlify.app\n",
    "\n",
    "\n"
   ]
  },
  {
   "cell_type": "markdown",
   "metadata": {},
   "source": [
    "# About me\n",
    "\n",
    "--\n",
    "\n",
    "### Non traditional path to coding from project management\n",
    "\n",
    "--\n",
    "### Enspiral Dev Academy\n",
    "\n",
    "--\n",
    "### Worked as a Data Scientist, Data Engineer and Analytics Engineer\n",
    "\n",
    "--\n",
    "### Data viz enthusiast\n",
    "--\n",
    "\n",
    "### Community organiser"
   ]
  },
  {
   "cell_type": "markdown",
   "metadata": {},
   "source": [
    "# About this talk\n",
    "\n",
    "### Previous talk https://artofmaps.netlify.app/ showcasing maps using R and JavaScript\n",
    "\n",
    "### This talk is another showcase of maps\n",
    "\n",
    "### But using Python &  deployed concept to production in 4 days leveraging Agentic AI"
   ]
  },
  {
   "cell_type": "markdown",
   "metadata": {},
   "source": [
    " # Map 1 placeholder"
   ]
  },
  {
   "cell_type": "markdown",
   "metadata": {},
   "source": [
    " # Map 2 placeholder"
   ]
  },
  {
   "cell_type": "markdown",
   "metadata": {},
   "source": [
    " # Map 3 placeholder"
   ]
  },
  {
   "cell_type": "markdown",
   "metadata": {},
   "source": [
    " # Map 4 placeholder"
   ]
  },
  {
   "cell_type": "markdown",
   "metadata": {},
   "source": [
    " # Map 5 placeholder"
   ]
  },
  {
   "cell_type": "markdown",
   "metadata": {},
   "source": [
    "# Conclusion"
   ]
  },
  {
   "cell_type": "markdown",
   "metadata": {},
   "source": [
    "# The tools that made this presentation possible\n",
    "\n",
    "- [Jupyter notebooks](https://jupyter.org/)\n",
    "- [geopandas](https://geopandas.org/en/stable/) make working with geospatial data in python easier\n",
    "- [contextily](https://contextily.readthedocs.io/en/latest/) package to retrieve tile maps from the internet\n",
    "- [nbconvert](https://nbconvert.readthedocs.io/) Convert Notebooks to other formats\n",
    "- [Netlify](https://www.netlify.com/) to deploy the presentation.slides.html to a custom URL\n",
    "\n"
   ]
  },
  {
   "cell_type": "markdown",
   "metadata": {},
   "source": []
  }
 ],
 "metadata": {
  "kernelspec": {
   "display_name": ".venv",
   "language": "python",
   "name": "python3"
  },
  "language_info": {
   "codemirror_mode": {
    "name": "ipython",
    "version": 3
   },
   "file_extension": ".py",
   "mimetype": "text/x-python",
   "name": "python",
   "nbconvert_exporter": "python",
   "pygments_lexer": "ipython3",
   "version": "3.7.6"
  },
  "orig_nbformat": 4
 },
 "nbformat": 4,
 "nbformat_minor": 2
}
